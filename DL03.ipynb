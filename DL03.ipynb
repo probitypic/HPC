{
 "cells": [
  {
   "cell_type": "code",
   "execution_count": 1,
   "metadata": {
    "id": "plTnFIhuF4_k"
   },
   "outputs": [],
   "source": [
    "import numpy as np\n",
    "import matplotlib.pyplot as plt\n",
    "import pandas as pd"
   ]
  },
  {
   "cell_type": "code",
   "execution_count": 2,
   "metadata": {
    "colab": {
     "base_uri": "https://localhost:8080/",
     "height": 345
    },
    "id": "lzcQSgoiF4_n",
    "outputId": "15a60c1e-3b62-4325-91de-1205f27622f5"
   },
   "outputs": [],
   "source": [
    "dataset_train = pd.read_csv(r'Google_Stock_Price_Train.csv')\n",
    "\n",
    "training_set = dataset_train.iloc[:, 1:2].values"
   ]
  },
  {
   "cell_type": "code",
   "execution_count": 3,
   "metadata": {
    "id": "PIWcY0kiF4_o",
    "outputId": "ae155e20-25f8-4f01-ad98-4109b4860114"
   },
   "outputs": [
    {
     "data": {
      "text/plain": [
       "(1258, 1)"
      ]
     },
     "execution_count": 3,
     "metadata": {},
     "output_type": "execute_result"
    }
   ],
   "source": [
    "training_set.shape"
   ]
  },
  {
   "cell_type": "code",
   "execution_count": 4,
   "metadata": {
    "id": "DYzjtrz9F4_q"
   },
   "outputs": [],
   "source": [
    "from sklearn.preprocessing import MinMaxScaler\n",
    "sc = MinMaxScaler(feature_range = (0, 1))\n",
    "training_set_scaled = sc.fit_transform(training_set)"
   ]
  },
  {
   "cell_type": "code",
   "execution_count": 5,
   "metadata": {
    "id": "ZT7WSTM-F4_r"
   },
   "outputs": [],
   "source": [
    "X_train = []\n",
    "y_train = []\n",
    "for i in range(60, 1257): \n",
    "    X_train.append(training_set_scaled[i-60:i, 0])\n",
    "    y_train.append(training_set_scaled[i, 0])\n",
    "X_train, y_train = np.array(X_train), np.array(y_train)"
   ]
  },
  {
   "cell_type": "code",
   "execution_count": 6,
   "metadata": {
    "id": "xxtTXyVOF4_t"
   },
   "outputs": [],
   "source": [
    "X_train = np.reshape(X_train, (X_train.shape[0], X_train.shape[1], 1))"
   ]
  },
  {
   "cell_type": "code",
   "execution_count": 7,
   "metadata": {
    "id": "0vfUkmDtF4_u",
    "outputId": "de639934-1762-4c9c-c711-41630532aefb"
   },
   "outputs": [
    {
     "data": {
      "text/plain": [
       "(1197, 60, 1)"
      ]
     },
     "execution_count": 7,
     "metadata": {},
     "output_type": "execute_result"
    }
   ],
   "source": [
    "X_train.shape"
   ]
  },
  {
   "cell_type": "code",
   "execution_count": 8,
   "metadata": {
    "id": "DKUPyLNHF4_v"
   },
   "outputs": [],
   "source": [
    "from keras.models import Sequential\n",
    "from keras.layers import Dense\n",
    "from keras.layers import LSTM\n",
    "from keras.layers import Dropout"
   ]
  },
  {
   "cell_type": "code",
   "execution_count": 9,
   "metadata": {
    "id": "L4-Bi1qWF4_w"
   },
   "outputs": [],
   "source": [
    "regressor = Sequential()"
   ]
  },
  {
   "cell_type": "code",
   "execution_count": 10,
   "metadata": {
    "id": "xxWR8hPfF4_w"
   },
   "outputs": [],
   "source": [
    "regressor.add(LSTM(units = 50, return_sequences = True, input_shape = (X_train.shape[1], 1)))\n",
    "regressor.add(Dropout(0.2))"
   ]
  },
  {
   "cell_type": "code",
   "execution_count": 11,
   "metadata": {
    "id": "m01B39eHF4_x"
   },
   "outputs": [],
   "source": [
    "regressor.add(LSTM(units = 50, return_sequences = True))\n",
    "regressor.add(Dropout(0.2))"
   ]
  },
  {
   "cell_type": "code",
   "execution_count": 12,
   "metadata": {
    "id": "NuCDX-elF4_x"
   },
   "outputs": [],
   "source": [
    "regressor.add(LSTM(units = 50, return_sequences = True))\n",
    "regressor.add(Dropout(0.2))"
   ]
  },
  {
   "cell_type": "code",
   "execution_count": 13,
   "metadata": {
    "id": "xTM8grQWF4_x"
   },
   "outputs": [],
   "source": [
    "regressor.add(LSTM(units = 50))\n",
    "regressor.add(Dropout(0.2))"
   ]
  },
  {
   "cell_type": "code",
   "execution_count": 14,
   "metadata": {
    "id": "diq5dNT9F4_y"
   },
   "outputs": [],
   "source": [
    "regressor.add(Dense(units = 1))"
   ]
  },
  {
   "cell_type": "code",
   "execution_count": 15,
   "metadata": {
    "id": "Jf90bPG_F4_y"
   },
   "outputs": [],
   "source": [
    "regressor.compile(optimizer = 'adam', loss = 'mean_squared_error')"
   ]
  },
  {
   "cell_type": "code",
   "execution_count": 16,
   "metadata": {
    "id": "kydtcvu8F4_z",
    "outputId": "08e2ad17-8280-4a27-d1eb-0bc73b1e55dc"
   },
   "outputs": [
    {
     "name": "stdout",
     "output_type": "stream",
     "text": [
      "Epoch 1/200\n",
      "38/38 [==============================] - 7s 45ms/step - loss: 0.0369\n",
      "Epoch 2/200\n",
      "38/38 [==============================] - 2s 47ms/step - loss: 0.0065\n",
      "Epoch 3/200\n",
      "38/38 [==============================] - 2s 47ms/step - loss: 0.0060\n",
      "Epoch 4/200\n",
      "38/38 [==============================] - 2s 66ms/step - loss: 0.0059\n",
      "Epoch 5/200\n",
      "38/38 [==============================] - 2s 50ms/step - loss: 0.0050\n",
      "Epoch 6/200\n",
      "38/38 [==============================] - 2s 50ms/step - loss: 0.0057\n",
      "Epoch 7/200\n",
      "38/38 [==============================] - 3s 91ms/step - loss: 0.0050\n",
      "Epoch 8/200\n",
      "38/38 [==============================] - 3s 70ms/step - loss: 0.0046\n",
      "Epoch 9/200\n",
      "38/38 [==============================] - 2s 51ms/step - loss: 0.0046\n",
      "Epoch 10/200\n",
      "38/38 [==============================] - 2s 47ms/step - loss: 0.0042\n",
      "Epoch 11/200\n",
      "38/38 [==============================] - 3s 80ms/step - loss: 0.0049\n",
      "Epoch 12/200\n",
      "38/38 [==============================] - 3s 68ms/step - loss: 0.0045\n",
      "Epoch 13/200\n",
      "38/38 [==============================] - 2s 50ms/step - loss: 0.0040\n",
      "Epoch 14/200\n",
      "38/38 [==============================] - 2s 54ms/step - loss: 0.0039\n",
      "Epoch 15/200\n",
      "38/38 [==============================] - 3s 80ms/step - loss: 0.0038\n",
      "Epoch 16/200\n",
      "38/38 [==============================] - 3s 77ms/step - loss: 0.0037\n",
      "Epoch 17/200\n",
      "38/38 [==============================] - 2s 50ms/step - loss: 0.0034\n",
      "Epoch 18/200\n",
      "38/38 [==============================] - 2s 47ms/step - loss: 0.0034\n",
      "Epoch 19/200\n",
      "38/38 [==============================] - 2s 65ms/step - loss: 0.0034\n",
      "Epoch 20/200\n",
      "38/38 [==============================] - 3s 85ms/step - loss: 0.0035\n",
      "Epoch 21/200\n",
      "38/38 [==============================] - 2s 60ms/step - loss: 0.0035\n",
      "Epoch 22/200\n",
      "38/38 [==============================] - 2s 51ms/step - loss: 0.0035\n",
      "Epoch 23/200\n",
      "38/38 [==============================] - 2s 56ms/step - loss: 0.0035\n",
      "Epoch 24/200\n",
      "38/38 [==============================] - 3s 82ms/step - loss: 0.0034\n",
      "Epoch 25/200\n",
      "38/38 [==============================] - 2s 56ms/step - loss: 0.0030\n",
      "Epoch 26/200\n",
      "38/38 [==============================] - 2s 46ms/step - loss: 0.0031\n",
      "Epoch 27/200\n",
      "38/38 [==============================] - 2s 50ms/step - loss: 0.0030\n",
      "Epoch 28/200\n",
      "38/38 [==============================] - 4s 96ms/step - loss: 0.0031\n",
      "Epoch 29/200\n",
      "38/38 [==============================] - 3s 79ms/step - loss: 0.0029\n",
      "Epoch 30/200\n",
      "38/38 [==============================] - 2s 52ms/step - loss: 0.0029\n",
      "Epoch 31/200\n",
      "38/38 [==============================] - 2s 51ms/step - loss: 0.0029\n",
      "Epoch 32/200\n",
      "38/38 [==============================] - 3s 83ms/step - loss: 0.0026\n",
      "Epoch 33/200\n",
      "38/38 [==============================] - 3s 73ms/step - loss: 0.0026\n",
      "Epoch 34/200\n",
      "38/38 [==============================] - 2s 56ms/step - loss: 0.0026\n",
      "Epoch 35/200\n",
      "38/38 [==============================] - 3s 70ms/step - loss: 0.0027\n",
      "Epoch 36/200\n",
      "38/38 [==============================] - 3s 85ms/step - loss: 0.0030\n",
      "Epoch 37/200\n",
      "38/38 [==============================] - 2s 65ms/step - loss: 0.0027\n",
      "Epoch 38/200\n",
      "38/38 [==============================] - 2s 58ms/step - loss: 0.0029\n",
      "Epoch 39/200\n",
      "38/38 [==============================] - 2s 60ms/step - loss: 0.0026\n",
      "Epoch 40/200\n",
      "38/38 [==============================] - 2s 64ms/step - loss: 0.0027\n",
      "Epoch 41/200\n",
      "38/38 [==============================] - 3s 68ms/step - loss: 0.0029\n",
      "Epoch 42/200\n",
      "38/38 [==============================] - 2s 49ms/step - loss: 0.0024\n",
      "Epoch 43/200\n",
      "38/38 [==============================] - 2s 46ms/step - loss: 0.0028\n",
      "Epoch 44/200\n",
      "38/38 [==============================] - 2s 62ms/step - loss: 0.0025\n",
      "Epoch 45/200\n",
      "38/38 [==============================] - 3s 79ms/step - loss: 0.0026\n",
      "Epoch 46/200\n",
      "38/38 [==============================] - 2s 56ms/step - loss: 0.0024\n",
      "Epoch 47/200\n",
      "38/38 [==============================] - 2s 53ms/step - loss: 0.0023\n",
      "Epoch 48/200\n",
      "38/38 [==============================] - 2s 58ms/step - loss: 0.0026\n",
      "Epoch 49/200\n",
      "38/38 [==============================] - 3s 85ms/step - loss: 0.0030\n",
      "Epoch 50/200\n",
      "38/38 [==============================] - 2s 64ms/step - loss: 0.0026\n",
      "Epoch 51/200\n",
      "38/38 [==============================] - 2s 55ms/step - loss: 0.0024\n",
      "Epoch 52/200\n",
      "38/38 [==============================] - 2s 47ms/step - loss: 0.0024\n",
      "Epoch 53/200\n",
      "38/38 [==============================] - 3s 81ms/step - loss: 0.0024\n",
      "Epoch 54/200\n",
      "38/38 [==============================] - 3s 79ms/step - loss: 0.0025\n",
      "Epoch 55/200\n",
      "38/38 [==============================] - 2s 52ms/step - loss: 0.0021\n",
      "Epoch 56/200\n",
      "38/38 [==============================] - 2s 47ms/step - loss: 0.0021\n",
      "Epoch 57/200\n",
      "38/38 [==============================] - 3s 80ms/step - loss: 0.0022\n",
      "Epoch 58/200\n",
      "38/38 [==============================] - 3s 74ms/step - loss: 0.0023\n",
      "Epoch 59/200\n",
      "38/38 [==============================] - 2s 47ms/step - loss: 0.0022\n",
      "Epoch 60/200\n",
      "38/38 [==============================] - 2s 55ms/step - loss: 0.0022\n",
      "Epoch 61/200\n",
      "38/38 [==============================] - 3s 81ms/step - loss: 0.0021\n",
      "Epoch 62/200\n",
      "38/38 [==============================] - 3s 77ms/step - loss: 0.0020\n",
      "Epoch 63/200\n",
      "38/38 [==============================] - 2s 52ms/step - loss: 0.0022\n",
      "Epoch 64/200\n",
      "38/38 [==============================] - 2s 47ms/step - loss: 0.0022\n",
      "Epoch 65/200\n",
      "38/38 [==============================] - 2s 59ms/step - loss: 0.0019\n",
      "Epoch 66/200\n",
      "38/38 [==============================] - 3s 88ms/step - loss: 0.0022\n",
      "Epoch 67/200\n",
      "38/38 [==============================] - 2s 63ms/step - loss: 0.0019\n",
      "Epoch 68/200\n",
      "38/38 [==============================] - 2s 52ms/step - loss: 0.0019\n",
      "Epoch 69/200\n",
      "38/38 [==============================] - 2s 62ms/step - loss: 0.0018\n",
      "Epoch 70/200\n",
      "38/38 [==============================] - 3s 91ms/step - loss: 0.0017\n",
      "Epoch 71/200\n",
      "38/38 [==============================] - 2s 53ms/step - loss: 0.0018\n",
      "Epoch 72/200\n",
      "38/38 [==============================] - 2s 47ms/step - loss: 0.0017\n",
      "Epoch 73/200\n",
      "38/38 [==============================] - 2s 61ms/step - loss: 0.0018\n",
      "Epoch 74/200\n",
      "38/38 [==============================] - 4s 98ms/step - loss: 0.0019\n",
      "Epoch 75/200\n",
      "38/38 [==============================] - 2s 62ms/step - loss: 0.0017\n",
      "Epoch 76/200\n",
      "38/38 [==============================] - 2s 47ms/step - loss: 0.0018\n",
      "Epoch 77/200\n",
      "38/38 [==============================] - 2s 62ms/step - loss: 0.0017\n",
      "Epoch 78/200\n",
      "38/38 [==============================] - 3s 92ms/step - loss: 0.0017\n",
      "Epoch 79/200\n",
      "38/38 [==============================] - 2s 60ms/step - loss: 0.0017\n",
      "Epoch 80/200\n",
      "38/38 [==============================] - 2s 54ms/step - loss: 0.0018\n",
      "Epoch 81/200\n",
      "38/38 [==============================] - 2s 56ms/step - loss: 0.0016\n",
      "Epoch 82/200\n",
      "38/38 [==============================] - 3s 78ms/step - loss: 0.0018\n",
      "Epoch 83/200\n",
      "38/38 [==============================] - 3s 68ms/step - loss: 0.0016\n",
      "Epoch 84/200\n",
      "38/38 [==============================] - 2s 48ms/step - loss: 0.0018\n",
      "Epoch 85/200\n",
      "38/38 [==============================] - 2s 52ms/step - loss: 0.0015\n",
      "Epoch 86/200\n",
      "38/38 [==============================] - 3s 92ms/step - loss: 0.0016\n",
      "Epoch 87/200\n",
      "38/38 [==============================] - 3s 72ms/step - loss: 0.0018\n",
      "Epoch 88/200\n",
      "38/38 [==============================] - 2s 52ms/step - loss: 0.0016\n",
      "Epoch 89/200\n",
      "38/38 [==============================] - 2s 50ms/step - loss: 0.0015\n",
      "Epoch 90/200\n",
      "38/38 [==============================] - 3s 78ms/step - loss: 0.0015\n",
      "Epoch 91/200\n",
      "38/38 [==============================] - 3s 73ms/step - loss: 0.0015\n",
      "Epoch 92/200\n",
      "38/38 [==============================] - 2s 53ms/step - loss: 0.0015\n",
      "Epoch 93/200\n",
      "38/38 [==============================] - 2s 55ms/step - loss: 0.0014\n",
      "Epoch 94/200\n",
      "38/38 [==============================] - 3s 84ms/step - loss: 0.0013\n",
      "Epoch 95/200\n",
      "38/38 [==============================] - 3s 75ms/step - loss: 0.0015\n",
      "Epoch 96/200\n",
      "38/38 [==============================] - 2s 47ms/step - loss: 0.0014\n",
      "Epoch 97/200\n",
      "38/38 [==============================] - 2s 47ms/step - loss: 0.0015\n",
      "Epoch 98/200\n",
      "38/38 [==============================] - 3s 68ms/step - loss: 0.0014\n",
      "Epoch 99/200\n",
      "38/38 [==============================] - 3s 92ms/step - loss: 0.0014\n",
      "Epoch 100/200\n",
      "38/38 [==============================] - 2s 53ms/step - loss: 0.0015\n",
      "Epoch 101/200\n",
      "38/38 [==============================] - 2s 52ms/step - loss: 0.0015\n",
      "Epoch 102/200\n",
      "38/38 [==============================] - 3s 70ms/step - loss: 0.0013\n",
      "Epoch 103/200\n",
      "38/38 [==============================] - 3s 80ms/step - loss: 0.0014\n",
      "Epoch 104/200\n",
      "38/38 [==============================] - 2s 47ms/step - loss: 0.0015\n",
      "Epoch 105/200\n",
      "38/38 [==============================] - 2s 52ms/step - loss: 0.0014\n",
      "Epoch 106/200\n",
      "38/38 [==============================] - 3s 72ms/step - loss: 0.0014\n",
      "Epoch 107/200\n",
      "38/38 [==============================] - 4s 95ms/step - loss: 0.0012\n",
      "Epoch 108/200\n",
      "38/38 [==============================] - 2s 47ms/step - loss: 0.0014\n",
      "Epoch 109/200\n",
      "38/38 [==============================] - 2s 48ms/step - loss: 0.0013\n",
      "Epoch 110/200\n",
      "38/38 [==============================] - 2s 62ms/step - loss: 0.0012\n",
      "Epoch 111/200\n",
      "38/38 [==============================] - 3s 84ms/step - loss: 0.0013\n",
      "Epoch 112/200\n",
      "38/38 [==============================] - 2s 64ms/step - loss: 0.0013\n",
      "Epoch 113/200\n",
      "38/38 [==============================] - 2s 55ms/step - loss: 0.0013\n",
      "Epoch 114/200\n",
      "38/38 [==============================] - 2s 62ms/step - loss: 0.0014\n",
      "Epoch 115/200\n",
      "38/38 [==============================] - 3s 81ms/step - loss: 0.0013\n",
      "Epoch 116/200\n",
      "38/38 [==============================] - 2s 58ms/step - loss: 0.0013\n",
      "Epoch 117/200\n",
      "38/38 [==============================] - 2s 51ms/step - loss: 0.0012\n",
      "Epoch 118/200\n",
      "38/38 [==============================] - 2s 48ms/step - loss: 0.0015\n",
      "Epoch 119/200\n",
      "38/38 [==============================] - 3s 93ms/step - loss: 0.0013\n",
      "Epoch 120/200\n",
      "38/38 [==============================] - 3s 72ms/step - loss: 0.0014\n",
      "Epoch 121/200\n",
      "38/38 [==============================] - 2s 54ms/step - loss: 0.0014\n",
      "Epoch 122/200\n",
      "38/38 [==============================] - 2s 51ms/step - loss: 0.0012\n",
      "Epoch 123/200\n",
      "38/38 [==============================] - 3s 79ms/step - loss: 0.0012\n",
      "Epoch 124/200\n",
      "38/38 [==============================] - 3s 77ms/step - loss: 0.0012\n",
      "Epoch 125/200\n",
      "38/38 [==============================] - 2s 57ms/step - loss: 0.0012\n",
      "Epoch 126/200\n",
      "38/38 [==============================] - 2s 60ms/step - loss: 0.0012\n",
      "Epoch 127/200\n",
      "38/38 [==============================] - 3s 81ms/step - loss: 0.0014\n",
      "Epoch 128/200\n",
      "38/38 [==============================] - 3s 70ms/step - loss: 0.0012\n",
      "Epoch 129/200\n",
      "38/38 [==============================] - 3s 75ms/step - loss: 0.0012\n",
      "Epoch 130/200\n",
      "38/38 [==============================] - 2s 55ms/step - loss: 0.0013\n",
      "Epoch 131/200\n",
      "38/38 [==============================] - 2s 56ms/step - loss: 0.0012\n",
      "Epoch 132/200\n",
      "38/38 [==============================] - 2s 50ms/step - loss: 0.0011\n",
      "Epoch 133/200\n",
      "38/38 [==============================] - 2s 47ms/step - loss: 0.0012\n",
      "Epoch 134/200\n",
      "38/38 [==============================] - 2s 48ms/step - loss: 0.0011\n",
      "Epoch 135/200\n",
      "38/38 [==============================] - 2s 57ms/step - loss: 0.0015\n",
      "Epoch 136/200\n",
      "38/38 [==============================] - 2s 51ms/step - loss: 0.0012\n",
      "Epoch 137/200\n",
      "38/38 [==============================] - 2s 51ms/step - loss: 0.0011\n",
      "Epoch 138/200\n",
      "38/38 [==============================] - 2s 52ms/step - loss: 0.0011\n",
      "Epoch 139/200\n",
      "38/38 [==============================] - 3s 70ms/step - loss: 0.0011\n",
      "Epoch 140/200\n",
      "38/38 [==============================] - 2s 53ms/step - loss: 0.0011\n",
      "Epoch 141/200\n",
      "38/38 [==============================] - 2s 51ms/step - loss: 0.0011\n",
      "Epoch 142/200\n",
      "38/38 [==============================] - 2s 54ms/step - loss: 0.0012\n",
      "Epoch 143/200\n",
      "38/38 [==============================] - 2s 48ms/step - loss: 0.0013\n",
      "Epoch 144/200\n",
      "38/38 [==============================] - 2s 51ms/step - loss: 0.0012\n",
      "Epoch 145/200\n",
      "38/38 [==============================] - 2s 46ms/step - loss: 0.0011\n",
      "Epoch 146/200\n",
      "38/38 [==============================] - 2s 47ms/step - loss: 0.0011\n",
      "Epoch 147/200\n",
      "38/38 [==============================] - 2s 56ms/step - loss: 0.0012\n",
      "Epoch 148/200\n",
      "38/38 [==============================] - 2s 60ms/step - loss: 0.0012\n",
      "Epoch 149/200\n",
      "38/38 [==============================] - 2s 56ms/step - loss: 0.0010\n",
      "Epoch 150/200\n",
      "38/38 [==============================] - 2s 46ms/step - loss: 0.0011\n",
      "Epoch 151/200\n",
      "38/38 [==============================] - 2s 51ms/step - loss: 0.0010\n",
      "Epoch 152/200\n",
      "38/38 [==============================] - 2s 48ms/step - loss: 0.0012\n",
      "Epoch 153/200\n",
      "38/38 [==============================] - 2s 47ms/step - loss: 0.0013\n",
      "Epoch 154/200\n",
      "38/38 [==============================] - 2s 45ms/step - loss: 0.0012\n",
      "Epoch 155/200\n",
      "38/38 [==============================] - 2s 47ms/step - loss: 0.0011\n",
      "Epoch 156/200\n",
      "38/38 [==============================] - 2s 51ms/step - loss: 0.0010\n",
      "Epoch 157/200\n",
      "38/38 [==============================] - 2s 50ms/step - loss: 0.0010\n",
      "Epoch 158/200\n",
      "38/38 [==============================] - 2s 45ms/step - loss: 0.0011\n",
      "Epoch 159/200\n",
      "38/38 [==============================] - 2s 45ms/step - loss: 0.0012\n",
      "Epoch 160/200\n",
      "38/38 [==============================] - 2s 44ms/step - loss: 0.0011\n",
      "Epoch 161/200\n",
      "38/38 [==============================] - 2s 46ms/step - loss: 0.0012\n",
      "Epoch 162/200\n",
      "38/38 [==============================] - 2s 44ms/step - loss: 0.0011\n",
      "Epoch 163/200\n",
      "38/38 [==============================] - 2s 44ms/step - loss: 0.0011\n",
      "Epoch 164/200\n",
      "38/38 [==============================] - 2s 45ms/step - loss: 0.0013\n",
      "Epoch 165/200\n",
      "38/38 [==============================] - 2s 51ms/step - loss: 0.0012\n",
      "Epoch 166/200\n",
      "38/38 [==============================] - 2s 49ms/step - loss: 0.0011\n",
      "Epoch 167/200\n",
      "38/38 [==============================] - 2s 44ms/step - loss: 0.0011\n",
      "Epoch 168/200\n",
      "38/38 [==============================] - 2s 49ms/step - loss: 0.0011\n",
      "Epoch 169/200\n",
      "38/38 [==============================] - 2s 50ms/step - loss: 0.0011\n",
      "Epoch 170/200\n",
      "38/38 [==============================] - 2s 48ms/step - loss: 0.0010\n",
      "Epoch 171/200\n",
      "38/38 [==============================] - 2s 53ms/step - loss: 0.0010\n",
      "Epoch 172/200\n",
      "38/38 [==============================] - 2s 51ms/step - loss: 0.0010\n",
      "Epoch 173/200\n",
      "38/38 [==============================] - 2s 63ms/step - loss: 9.9312e-04\n",
      "Epoch 174/200\n",
      "38/38 [==============================] - 3s 67ms/step - loss: 0.0011\n",
      "Epoch 175/200\n",
      "38/38 [==============================] - 2s 51ms/step - loss: 0.0011\n",
      "Epoch 176/200\n",
      "38/38 [==============================] - 2s 43ms/step - loss: 0.0010\n",
      "Epoch 177/200\n",
      "38/38 [==============================] - 2s 43ms/step - loss: 0.0011\n",
      "Epoch 178/200\n",
      "38/38 [==============================] - 2s 44ms/step - loss: 0.0011\n",
      "Epoch 179/200\n",
      "38/38 [==============================] - 2s 43ms/step - loss: 0.0012\n",
      "Epoch 180/200\n",
      "38/38 [==============================] - 2s 43ms/step - loss: 0.0012\n",
      "Epoch 181/200\n",
      "38/38 [==============================] - 2s 45ms/step - loss: 0.0010\n",
      "Epoch 182/200\n",
      "38/38 [==============================] - 2s 51ms/step - loss: 0.0012\n",
      "Epoch 183/200\n",
      "38/38 [==============================] - 2s 49ms/step - loss: 9.5813e-04\n",
      "Epoch 184/200\n",
      "38/38 [==============================] - 2s 44ms/step - loss: 0.0010\n",
      "Epoch 185/200\n",
      "38/38 [==============================] - 2s 44ms/step - loss: 0.0011\n",
      "Epoch 186/200\n",
      "38/38 [==============================] - 2s 44ms/step - loss: 0.0010\n",
      "Epoch 187/200\n",
      "38/38 [==============================] - 2s 44ms/step - loss: 0.0011\n",
      "Epoch 188/200\n",
      "38/38 [==============================] - 2s 44ms/step - loss: 0.0012\n",
      "Epoch 189/200\n",
      "38/38 [==============================] - 2s 44ms/step - loss: 0.0011\n",
      "Epoch 190/200\n",
      "38/38 [==============================] - 2s 44ms/step - loss: 9.9020e-04\n",
      "Epoch 191/200\n",
      "38/38 [==============================] - 2s 52ms/step - loss: 9.9200e-04\n",
      "Epoch 192/200\n",
      "38/38 [==============================] - 2s 50ms/step - loss: 0.0010\n",
      "Epoch 193/200\n",
      "38/38 [==============================] - 2s 44ms/step - loss: 0.0010\n",
      "Epoch 194/200\n",
      "38/38 [==============================] - 2s 44ms/step - loss: 9.9206e-04\n",
      "Epoch 195/200\n",
      "38/38 [==============================] - 2s 44ms/step - loss: 0.0012\n",
      "Epoch 196/200\n",
      "38/38 [==============================] - 2s 44ms/step - loss: 0.0010\n",
      "Epoch 197/200\n",
      "38/38 [==============================] - 2s 44ms/step - loss: 9.9727e-04\n",
      "Epoch 198/200\n",
      "38/38 [==============================] - 2s 44ms/step - loss: 0.0011\n",
      "Epoch 199/200\n",
      "38/38 [==============================] - 2s 44ms/step - loss: 0.0010\n",
      "Epoch 200/200\n",
      "38/38 [==============================] - 2s 48ms/step - loss: 9.6830e-04\n"
     ]
    },
    {
     "data": {
      "text/plain": [
       "<keras.callbacks.History at 0x2d0d7ad06d0>"
      ]
     },
     "execution_count": 16,
     "metadata": {},
     "output_type": "execute_result"
    }
   ],
   "source": [
    "regressor.fit(X_train, y_train, epochs = 200, batch_size = 32)"
   ]
  },
  {
   "cell_type": "code",
   "execution_count": 17,
   "metadata": {
    "id": "yLeiwko4F4_0"
   },
   "outputs": [],
   "source": [
    "dataset_test = pd.read_csv('Google_Stock_Price_Test.csv')\n",
    "real_stock_price = dataset_test.iloc[:, 1:2].values"
   ]
  },
  {
   "cell_type": "code",
   "execution_count": 18,
   "metadata": {
    "id": "siqDahHlF4_0"
   },
   "outputs": [],
   "source": [
    "dataset_total = pd.concat((dataset_train['Open'], dataset_test['Open']), axis =0)\n",
    "inputs = dataset_total[len(dataset_total) - len(dataset_test) - 60:].values\n",
    "inputs = inputs.reshape(-1,1)\n",
    "inputs = sc.transform(inputs)\n",
    "X_test = []"
   ]
  },
  {
   "cell_type": "code",
   "execution_count": 19,
   "metadata": {
    "id": "WFC2i7udF4_0",
    "outputId": "5200d02d-6fd1-487b-ea89-6cdacb948b42"
   },
   "outputs": [
    {
     "data": {
      "text/plain": [
       "(80, 1)"
      ]
     },
     "execution_count": 19,
     "metadata": {},
     "output_type": "execute_result"
    }
   ],
   "source": [
    "inputs.shape"
   ]
  },
  {
   "cell_type": "code",
   "execution_count": 20,
   "metadata": {
    "id": "i1BfIqXzF4_1",
    "outputId": "45d13cd6-edb2-468e-aa3e-34bc99990e97"
   },
   "outputs": [
    {
     "name": "stdout",
     "output_type": "stream",
     "text": [
      "1/1 [==============================] - 1s 1s/step\n"
     ]
    }
   ],
   "source": [
    "for i in range(60, 80):\n",
    "    X_test.append(inputs[i-60:i, 0])\n",
    "X_test = np.array(X_test)\n",
    "X_test = np.reshape(X_test, (X_test.shape[0], X_test.shape[1], 1))\n",
    "predicted_stock_price = regressor.predict(X_test)\n",
    "predicted_stock_price = sc.inverse_transform(predicted_stock_price)"
   ]
  },
  {
   "cell_type": "code",
   "execution_count": 21,
   "metadata": {
    "id": "njcof1GnF4_1",
    "outputId": "f54ad2d6-d387-4f61-c843-def4ba12590d"
   },
   "outputs": [
    {
     "data": {
      "image/png": "[encoded data removed]",
      "text/plain": [
       "<Figure size 640x480 with 1 Axes>"
      ]
     },
     "metadata": {},
     "output_type": "display_data"
    }
   ],
   "source": [
    "# Visualising the results\n",
    "plt.plot(real_stock_price, color = 'red',label = 'Real Google Stock Price')\n",
    "plt.plot(predicted_stock_price, color = 'blue',label='Predicted Google StockPrice')\n",
    "plt.title('Google Stock Price Prediction')\n",
    "plt.xlabel('Time')\n",
    "plt.ylabel('Google Stock Price')\n",
    "plt.legend()\n",
    "plt.show()"
   ]
  },
  {
   "cell_type": "code",
   "execution_count": null,
   "metadata": {
    "id": "OuPbtrCXF4_2"
   },
   "outputs": [],
   "source": []
  }
 ],
 "metadata": {
  "colab": {
   "provenance": []
  },
  "kernelspec": {
   "display_name": "Python 3 (ipykernel)",
   "language": "python",
   "name": "python3"
  },
  "language_info": {
   "codemirror_mode": {
    "name": "ipython",
    "version": 3
   },
   "file_extension": ".py",
   "mimetype": "text/x-python",
   "name": "python",
   "nbconvert_exporter": "python",
   "pygments_lexer": "ipython3",
   "version": "3.9.13"
  }
 },
 "nbformat": 4,
 "nbformat_minor": 1
}
